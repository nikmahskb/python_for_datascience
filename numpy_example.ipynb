{
  "nbformat": 4,
  "nbformat_minor": 0,
  "metadata": {
    "colab": {
      "provenance": [],
      "include_colab_link": true
    },
    "kernelspec": {
      "name": "python3",
      "display_name": "Python 3"
    },
    "language_info": {
      "name": "python"
    }
  },
  "cells": [
    {
      "cell_type": "markdown",
      "metadata": {
        "id": "view-in-github",
        "colab_type": "text"
      },
      "source": [
        "<a href=\"https://colab.research.google.com/github/nikmahskb/python_for_datascience/blob/main/numpy_example.ipynb\" target=\"_parent\"><img src=\"https://colab.research.google.com/assets/colab-badge.svg\" alt=\"Open In Colab\"/></a>"
      ]
    },
    {
      "cell_type": "markdown",
      "source": [
        "# Numpy"
      ],
      "metadata": {
        "id": "DZ5yXnqBB7Zn"
      }
    },
    {
      "cell_type": "code",
      "source": [
        "# pip install numpy"
      ],
      "metadata": {
        "id": "6cOfcRV2dezp"
      },
      "execution_count": null,
      "outputs": []
    },
    {
      "cell_type": "code",
      "source": [
        "import numpy as np"
      ],
      "metadata": {
        "id": "t9m0c01lB-UE"
      },
      "execution_count": null,
      "outputs": []
    },
    {
      "cell_type": "markdown",
      "source": [
        "## Soal 1\n",
        "\n",
        "Buat contoh :\n",
        "\n",
        "* numpy array (1D, 2D, 3D)\n",
        "* numpy join\n",
        "* numpy split\n",
        "* operasi matrik"
      ],
      "metadata": {
        "id": "DGpiGKJ7WxX-"
      }
    },
    {
      "cell_type": "code",
      "source": [
        "## numpy array 1D\n",
        "one_dim = np.array([56, 55, 54, 53, 52])\n",
        "\n",
        "print(one_dim)"
      ],
      "metadata": {
        "colab": {
          "base_uri": "https://localhost:8080/"
        },
        "id": "tRh7KRlgVFdc",
        "outputId": "89cb1d03-bd37-40ad-ed03-470a1c72c5d6"
      },
      "execution_count": null,
      "outputs": [
        {
          "output_type": "stream",
          "name": "stdout",
          "text": [
            "[56 55 54 53 52]\n"
          ]
        }
      ]
    },
    {
      "cell_type": "code",
      "source": [
        "## numpy array 2D\n",
        "two_dim = np.array([[100, 110, 120, 130], [140, 150, 160, 170]])\n",
        "\n",
        "print(two_dim)"
      ],
      "metadata": {
        "colab": {
          "base_uri": "https://localhost:8080/"
        },
        "id": "xRGmPBVSVb9p",
        "outputId": "06af6beb-90df-466b-a81f-d71c380c9573"
      },
      "execution_count": null,
      "outputs": [
        {
          "output_type": "stream",
          "name": "stdout",
          "text": [
            "[[100 110 120 130]\n",
            " [140 150 160 170]]\n"
          ]
        }
      ]
    },
    {
      "cell_type": "code",
      "source": [
        "## numpy array 3D\n",
        "three_dim = np.array([[[11, 12, 13, 14], [14, 13, 12, 11]], [[1, 2, 3, 4], [4, 3, 2, 1]]])\n",
        "\n",
        "print(three_dim)"
      ],
      "metadata": {
        "colab": {
          "base_uri": "https://localhost:8080/"
        },
        "id": "So4xFkpsV0fI",
        "outputId": "edd09cde-134e-4e6e-940c-32f06a932995"
      },
      "execution_count": null,
      "outputs": [
        {
          "output_type": "stream",
          "name": "stdout",
          "text": [
            "[[[11 12 13 14]\n",
            "  [14 13 12 11]]\n",
            "\n",
            " [[ 1  2  3  4]\n",
            "  [ 4  3  2  1]]]\n"
          ]
        }
      ]
    },
    {
      "cell_type": "code",
      "source": [
        "## numpy join\n",
        "\n",
        "exp1 = np.array([56, 55, 54, 53, 52])\n",
        "exp2 = np.array([55, 56, 57, 58, 59])\n",
        "\n",
        "arr1 = np.concatenate((exp1, exp2))\n",
        "arr2 = np.stack((exp1, exp2))\n",
        "arr3 = np.hstack((exp1, exp2))\n",
        "arr4 = np.vstack((exp1, exp2))\n",
        "arr5 = np.dstack((exp1, exp2))\n",
        "\n",
        "print(f\"numpy concatenate: \\n {arr1} \\n\")\n",
        "\n",
        "print(f\"numpy stack: \\n {arr2} \\n\")\n",
        "\n",
        "print(f\"numpy hstack: \\n {arr3} \\n\")\n",
        "\n",
        "print(f\"numpy vstack: \\n {arr4} \\n\")\n",
        "\n",
        "print(f\"numpy dstack: \\n {arr5} \\n\")"
      ],
      "metadata": {
        "colab": {
          "base_uri": "https://localhost:8080/"
        },
        "id": "7uzf98HdWV_R",
        "outputId": "eb901494-fa5a-4ec7-9366-c8327fc89eef"
      },
      "execution_count": null,
      "outputs": [
        {
          "output_type": "stream",
          "name": "stdout",
          "text": [
            "numpy concatenate: \n",
            " [56 55 54 53 52 55 56 57 58 59] \n",
            "\n",
            "numpy stack: \n",
            " [[56 55 54 53 52]\n",
            " [55 56 57 58 59]] \n",
            "\n",
            "numpy hstack: \n",
            " [56 55 54 53 52 55 56 57 58 59] \n",
            "\n",
            "numpy vstack: \n",
            " [[56 55 54 53 52]\n",
            " [55 56 57 58 59]] \n",
            "\n",
            "numpy dstack: \n",
            " [[[56 55]\n",
            "  [55 56]\n",
            "  [54 57]\n",
            "  [53 58]\n",
            "  [52 59]]] \n",
            "\n"
          ]
        }
      ]
    },
    {
      "cell_type": "code",
      "source": [
        "## numpy split\n",
        "\n",
        "# 1D\n",
        "split_one = np.array([56, 55, 54, 53, 52, 55, 56, 57, 58, 59])\n",
        "new_one = np.array_split(split_one, 5)\n",
        "\n",
        "print(f\"split 1D: \\n {new_one} \\n\")\n",
        "\n",
        "# 2D\n",
        "split_two = np.array([[100, 110], [120, 130], [140, 150], [160, 170]])\n",
        "new_two = np.array_split(split_two, 2)\n",
        "\n",
        "print(f\"split 2D: \\n {new_two} \\n\")\n",
        "\n",
        "# 3D\n",
        "split_three = np.array([[70, 80, 90], [100, 110, 120], [130, 140, 150], [160, 170, 180], [190, 200, 210], [220, 230, 240]])\n",
        "new_three = np.array_split(split_three, 3)\n",
        "\n",
        "print(f\"split 3D: \\n {new_three} \\n\")"
      ],
      "metadata": {
        "colab": {
          "base_uri": "https://localhost:8080/"
        },
        "id": "nK_hhkqPYcDd",
        "outputId": "377d09d0-3344-4d79-d331-ebff6e1657f0"
      },
      "execution_count": null,
      "outputs": [
        {
          "output_type": "stream",
          "name": "stdout",
          "text": [
            "split 1D: \n",
            " [array([56, 55]), array([54, 53]), array([52, 55]), array([56, 57]), array([58, 59])] \n",
            "\n",
            "split 2D: \n",
            " [array([[100, 110],\n",
            "       [120, 130]]), array([[140, 150],\n",
            "       [160, 170]])] \n",
            "\n",
            "split 3D: \n",
            " [array([[ 70,  80,  90],\n",
            "       [100, 110, 120]]), array([[130, 140, 150],\n",
            "       [160, 170, 180]]), array([[190, 200, 210],\n",
            "       [220, 230, 240]])] \n",
            "\n"
          ]
        }
      ]
    },
    {
      "cell_type": "code",
      "source": [
        "## Operasi matrik\n",
        "\n",
        "matriks_a = np.array([\n",
        "            [1,2,3,4],\n",
        "            [5,6,7,8],\n",
        "            [9,10,11,12],\n",
        "            [13,14,15,16]])\n",
        "\n",
        "matriks_b = np.array([\n",
        "            [16,15,14,13],\n",
        "            [12,11,10,9],\n",
        "            [8,7,6,5],\n",
        "            [4,3,2,1]])\n",
        "\n",
        "\n",
        "op_plus = matriks_a + matriks_b\n",
        "print(f\"Hasil penjumlahan: \\n {op_plus} \\n\")\n",
        "\n",
        "op_minus = matriks_a - matriks_b\n",
        "print(f\"Hasil pengurangan: \\n {op_minus} \\n\")\n",
        "\n",
        "op_power = np.power(matriks_a, 2)\n",
        "print(f\"Hasil perhitungan pangkat: \\n {op_power} \\n\")\n",
        "\n",
        "op_sin = np.sin(matriks_b)\n",
        "print(f\"Hasil sinus matriks: \\n {op_sin} \\n\")"
      ],
      "metadata": {
        "colab": {
          "base_uri": "https://localhost:8080/"
        },
        "id": "_w321Rh4aQHs",
        "outputId": "d14aa734-6657-4bcc-fb4d-b3b5949efc46"
      },
      "execution_count": null,
      "outputs": [
        {
          "output_type": "stream",
          "name": "stdout",
          "text": [
            "Hasil penjumlahan: \n",
            " [[17 17 17 17]\n",
            " [17 17 17 17]\n",
            " [17 17 17 17]\n",
            " [17 17 17 17]] \n",
            "\n",
            "Hasil pengurangan: \n",
            " [[-15 -13 -11  -9]\n",
            " [ -7  -5  -3  -1]\n",
            " [  1   3   5   7]\n",
            " [  9  11  13  15]] \n",
            "\n",
            "Hasil perhitungan pangkat: \n",
            " [[  1   4   9  16]\n",
            " [ 25  36  49  64]\n",
            " [ 81 100 121 144]\n",
            " [169 196 225 256]] \n",
            "\n",
            "Hasil sinus matriks: \n",
            " [[-0.28790332  0.65028784  0.99060736  0.42016704]\n",
            " [-0.53657292 -0.99999021 -0.54402111  0.41211849]\n",
            " [ 0.98935825  0.6569866  -0.2794155  -0.95892427]\n",
            " [-0.7568025   0.14112001  0.90929743  0.84147098]] \n",
            "\n"
          ]
        }
      ]
    },
    {
      "cell_type": "markdown",
      "source": [
        "## Soal 2\n",
        "\n",
        "* Buatlah numpy array dengan matrik ukuran 3x4 dan range array 10-30\n",
        "* Kemudian lakukan flatten\n",
        "* cari nilai statistik (mean, median, dsb)"
      ],
      "metadata": {
        "id": "t1PLm38lSw8u"
      }
    },
    {
      "cell_type": "markdown",
      "source": [],
      "metadata": {
        "id": "IbvlGxlveToi"
      }
    },
    {
      "cell_type": "code",
      "source": [
        "matriks1 = np.random.randint(10, 30, (3, 4))\n",
        "print(matriks1)"
      ],
      "metadata": {
        "colab": {
          "base_uri": "https://localhost:8080/"
        },
        "id": "9YgZEw_RcrJo",
        "outputId": "c2c571fb-b2dc-4c4b-8135-32bf8faccc97"
      },
      "execution_count": null,
      "outputs": [
        {
          "output_type": "stream",
          "name": "stdout",
          "text": [
            "[[10 11 12 10]\n",
            " [19 23 24 12]\n",
            " [20 15 28 19]]\n"
          ]
        }
      ]
    },
    {
      "cell_type": "code",
      "source": [
        "transform = matriks1.flatten()\n",
        "print(transform)"
      ],
      "metadata": {
        "colab": {
          "base_uri": "https://localhost:8080/"
        },
        "id": "MwJMCzG8d-gt",
        "outputId": "17167996-d21b-42de-ea6b-7fd5543acaca"
      },
      "execution_count": null,
      "outputs": [
        {
          "output_type": "stream",
          "name": "stdout",
          "text": [
            "[10 11 12 10 19 23 24 12 20 15 28 19]\n"
          ]
        }
      ]
    },
    {
      "cell_type": "code",
      "source": [
        "data1 = np.mean(transform)\n",
        "data2 = np.median(transform)\n",
        "data3 = np.max(transform)\n",
        "data4 = np.min(transform)\n",
        "data5 = np.std(transform)\n",
        "data6 = np.var(transform)\n",
        "data7 = np.percentile(transform, 25)\n",
        "data8 = np.percentile(transform, 75)\n",
        "\n",
        "print(f\"{data1}, {data2}, {data3}, {data4}, {data5}, {data6}, {data7}, {data8}\")"
      ],
      "metadata": {
        "colab": {
          "base_uri": "https://localhost:8080/"
        },
        "id": "hKnaI_uBeXY_",
        "outputId": "b57005b7-0879-47cb-aca2-b002589a83ea"
      },
      "execution_count": null,
      "outputs": [
        {
          "output_type": "stream",
          "name": "stdout",
          "text": [
            "16.916666666666668, 17.0, 28, 10, 5.851756621353588, 34.243055555555564, 11.75, 20.75\n"
          ]
        }
      ]
    }
  ]
}