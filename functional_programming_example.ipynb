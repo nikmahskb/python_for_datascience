{
  "nbformat": 4,
  "nbformat_minor": 0,
  "metadata": {
    "colab": {
      "provenance": [],
      "include_colab_link": true
    },
    "kernelspec": {
      "name": "python3",
      "display_name": "Python 3"
    },
    "language_info": {
      "name": "python"
    }
  },
  "cells": [
    {
      "cell_type": "markdown",
      "metadata": {
        "id": "view-in-github",
        "colab_type": "text"
      },
      "source": [
        "<a href=\"https://colab.research.google.com/github/nikmahskb/python_for_datascience/blob/main/functional_programming_example.ipynb\" target=\"_parent\"><img src=\"https://colab.research.google.com/assets/colab-badge.svg\" alt=\"Open In Colab\"/></a>"
      ]
    },
    {
      "cell_type": "markdown",
      "source": [
        "# **Functional Programming**"
      ],
      "metadata": {
        "id": "w0dV-gU9czZa"
      }
    },
    {
      "cell_type": "markdown",
      "source": [
        "## Soal 1\n",
        "\n",
        "Buatlah Function as an Argument dengan argument sebanyak 2 dan 3. salah satu argument bernilai default."
      ],
      "metadata": {
        "id": "9kysbwLsf5m2"
      }
    },
    {
      "cell_type": "code",
      "source": [
        "## Dua argumen dengan default\n",
        "def luas(func, x = 10):\n",
        "  return func(x)\n",
        "\n",
        "def luas_lingkaran(x):\n",
        "  luas = 22/7 * (x ** 2)\n",
        "  return luas\n",
        "\n",
        "print(luas(luas_lingkaran))"
      ],
      "metadata": {
        "colab": {
          "base_uri": "https://localhost:8080/"
        },
        "id": "F1xZqcq7DHp0",
        "outputId": "f5b897fb-5c15-4ea5-92b5-f1c7491761d2"
      },
      "execution_count": null,
      "outputs": [
        {
          "output_type": "stream",
          "name": "stdout",
          "text": [
            "314.2857142857143\n"
          ]
        }
      ]
    },
    {
      "cell_type": "code",
      "source": [
        "## Tiga argumen dengan default\n",
        "def luas(func, x, y = 10):\n",
        "  return func(x, y)\n",
        "\n",
        "def luas_segiempat(x, y):\n",
        "  luas = x * y\n",
        "  return luas\n",
        "\n",
        "print(luas(luas_segiempat, 10))"
      ],
      "metadata": {
        "colab": {
          "base_uri": "https://localhost:8080/"
        },
        "id": "Q7HX_IRDGDNo",
        "outputId": "8a4fb268-1a5b-41b4-9c79-da160bc00b30"
      },
      "execution_count": null,
      "outputs": [
        {
          "output_type": "stream",
          "name": "stdout",
          "text": [
            "100\n"
          ]
        }
      ]
    },
    {
      "cell_type": "markdown",
      "source": [
        "## Soal 2\n",
        "\n",
        "Buatlah function lambda yang dieksekusi didalam sebuah fungsi def\n",
        "\n"
      ],
      "metadata": {
        "id": "cRPWADiljPVD"
      }
    },
    {
      "cell_type": "code",
      "source": [
        "def barisan_arit(n, b, a):\n",
        "  lst1 = [lambda n = i: a + (n - 1) * b for i in range(1, n + 1)]\n",
        "  lst2 = []\n",
        "  for item in lst1:\n",
        "    lst2.append(item())\n",
        "  print(sum(lst2))\n",
        "\n",
        "barisan_arit(100, 2, 1)"
      ],
      "metadata": {
        "colab": {
          "base_uri": "https://localhost:8080/"
        },
        "id": "yfyi1IzpLsIj",
        "outputId": "a1958113-34bb-4a9f-9919-f47fac4d046e"
      },
      "execution_count": null,
      "outputs": [
        {
          "output_type": "stream",
          "name": "stdout",
          "text": [
            "10000\n"
          ]
        }
      ]
    },
    {
      "cell_type": "markdown",
      "source": [
        "## Soal 3\n",
        "\n",
        "Buat function recursion untuk menghitung pangkat"
      ],
      "metadata": {
        "id": "kPqj4SDxioyg"
      }
    },
    {
      "cell_type": "code",
      "source": [
        "a = int(input(\"Masukkan nilai awal = \"))\n",
        "b = int(input(\"Masukkan nilai beda = \"))\n",
        "n = int(input(\"Masukkan deret ke-n yang mau kamu tahu = \"))\n",
        "\n",
        "def barisan_arit(n):\n",
        "  uns_n = a + (n-1) * b\n",
        "  print(uns_n)\n",
        "  if uns_n > a:\n",
        "    return b + barisan_arit(n - 1)\n",
        "\n",
        "  return a\n",
        "\n",
        "barisan = barisan_arit(n)\n",
        "print(f'Bilangan pada barisan ke {n} adalah {barisan}')"
      ],
      "metadata": {
        "id": "55upkVUCJI2D",
        "colab": {
          "base_uri": "https://localhost:8080/"
        },
        "outputId": "3ba1319f-ea00-4204-df32-8e93df002dfc"
      },
      "execution_count": null,
      "outputs": [
        {
          "output_type": "stream",
          "name": "stdout",
          "text": [
            "Masukkan nilai awal = 1\n",
            "Masukkan nilai beda = 5\n",
            "Masukkan deret ke-n yang mau kamu tahu = 4\n",
            "16\n",
            "11\n",
            "6\n",
            "1\n",
            "Bilangan pada barisan ke 4 adalah 16\n"
          ]
        }
      ]
    },
    {
      "cell_type": "markdown",
      "source": [
        "## Soal 4\n",
        "\n",
        "Buatlah python dengan decorator seperti dibawah ini\n",
        "\n",
        "![image.png](data:image/png;base64,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)"
      ],
      "metadata": {
        "id": "Bhw76q1ihsOK"
      }
    },
    {
      "cell_type": "code",
      "source": [
        "def make_bold(fn):\n",
        "    def wrapper(*args, **kwargs):\n",
        "        return f\"\\033[1m {fn(*args, **kwargs)} \\033[1m\"\n",
        "    return wrapper\n",
        "\n",
        "def make_italic(fn):\n",
        "    def wrapper(*args, **kwargs):\n",
        "        return f\"\\033[3m {fn(*args, **kwargs)} \\033[3m\"\n",
        "    return wrapper\n",
        "\n",
        "def make_underline(fn):\n",
        "    def wrapper(*args, **kwargs):\n",
        "        return f\"\\033[4m {fn(*args, **kwargs)} \\033[4m\"\n",
        "    return wrapper\n",
        "\n",
        "\n",
        "@make_bold\n",
        "@make_italic\n",
        "@make_underline\n",
        "def hello():\n",
        "    return \"Hello world\"\n",
        "\n",
        "print(hello())"
      ],
      "metadata": {
        "colab": {
          "base_uri": "https://localhost:8080/"
        },
        "id": "EgSBzOrsYm-G",
        "outputId": "c05fd34e-7540-4e6b-9400-21d537c2043c"
      },
      "execution_count": null,
      "outputs": [
        {
          "output_type": "stream",
          "name": "stdout",
          "text": [
            "\u001b[1m \u001b[3m \u001b[4m Hello world \u001b[4m \u001b[3m \u001b[1m\n"
          ]
        }
      ]
    }
  ]
}