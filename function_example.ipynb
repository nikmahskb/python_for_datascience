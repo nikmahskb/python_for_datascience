{
  "nbformat": 4,
  "nbformat_minor": 0,
  "metadata": {
    "colab": {
      "provenance": [],
      "include_colab_link": true
    },
    "kernelspec": {
      "name": "python3",
      "display_name": "Python 3"
    },
    "language_info": {
      "name": "python"
    }
  },
  "cells": [
    {
      "cell_type": "markdown",
      "metadata": {
        "id": "view-in-github",
        "colab_type": "text"
      },
      "source": [
        "<a href=\"https://colab.research.google.com/github/nikmahskb/python_for_datascience/blob/main/function_example.ipynb\" target=\"_parent\"><img src=\"https://colab.research.google.com/assets/colab-badge.svg\" alt=\"Open In Colab\"/></a>"
      ]
    },
    {
      "cell_type": "markdown",
      "source": [
        "# Function"
      ],
      "metadata": {
        "id": "p6zUQtU8GYm1"
      }
    },
    {
      "cell_type": "markdown",
      "source": [
        "## Soal 1\n",
        "\n",
        "Buatlah script “kalkulator” yang terdiri dari dua parameter “x” dan “y” yang akan diisi angka dan parameter “operasi” yang akan diisi nama operasi seperti “penjumlahan”, “pengurangan”, “perkalian” dan “pembagian”\n",
        "\n",
        "Input:\n",
        "kalkulator(a = 10, b = 4, operasi = “penjumlahan”)\n",
        "\n",
        "Output:\n",
        "14\n"
      ],
      "metadata": {
        "id": "MI8_i6y0OZ94"
      }
    },
    {
      "cell_type": "code",
      "source": [
        "def kalkulator(x, y, operasi):\n",
        "  if operasi == \"penjumlahan\":\n",
        "    print(x+y)\n",
        "  elif operasi == \"pengurangan\":\n",
        "    print(x-y)\n",
        "  elif operasi == \"perkalian\":\n",
        "    print(x*y)\n",
        "  elif operasi == \"pembagian\":\n",
        "    print(x/y)\n",
        "  else:\n",
        "    print(\"operasi tidak diketahui\")\n",
        "\n",
        "kalkulator(10, 5, \"penjumlahan\")\n",
        "kalkulator(10, 4, \"pembagian\")"
      ],
      "metadata": {
        "colab": {
          "base_uri": "https://localhost:8080/"
        },
        "id": "7pIeB6YE-eTd",
        "outputId": "ad437544-a572-4141-b41c-d58636a457ed"
      },
      "execution_count": null,
      "outputs": [
        {
          "output_type": "stream",
          "name": "stdout",
          "text": [
            "15\n",
            "2.5\n"
          ]
        }
      ]
    },
    {
      "cell_type": "markdown",
      "source": [
        "## Soal 2\n",
        "\n",
        "Buat lah 3 fungsi yang didalamnya terdapat :\n",
        "\n",
        "* conditional if\n",
        "* condition loop\n",
        "* args dan kwargs"
      ],
      "metadata": {
        "id": "xoubsJWOHHy-"
      }
    },
    {
      "cell_type": "code",
      "source": [
        "def no_vocal(string):\n",
        "  vocal = (\"a\", \"i\", \"u\", \"e\", \"o\")\n",
        "  new_str = string\n",
        "\n",
        "  for i in range(len(string)):\n",
        "    for item in vocal:\n",
        "      if item == string[i]:\n",
        "        new_str = new_str.replace(string[i], \"\")\n",
        "  print(new_str)\n",
        "\n",
        "no_vocal(\"maju mundur kena\")"
      ],
      "metadata": {
        "colab": {
          "base_uri": "https://localhost:8080/"
        },
        "collapsed": true,
        "id": "8bxXwiKmSwUy",
        "outputId": "18110e20-4f2a-42db-9901-7220e9974f1a"
      },
      "execution_count": null,
      "outputs": [
        {
          "output_type": "stream",
          "name": "stdout",
          "text": [
            "mj mndr kn\n"
          ]
        }
      ]
    },
    {
      "cell_type": "code",
      "source": [
        "def profile(*noreg, **companyProfile):\n",
        "  print(\"No registrasi: \", *noreg)\n",
        "  print(\"Company profile: \")\n",
        "  for key in companyProfile:\n",
        "    print(key + \" = \" + companyProfile[key])\n",
        "\n",
        "\n",
        "profile(129718276371, \"HPT-ACD\", name = \"PT. Cerdas Digital Nusantara\", year = \"2014\", based = \"Jakarta Barat, DKI Jakarta\")"
      ],
      "metadata": {
        "colab": {
          "base_uri": "https://localhost:8080/"
        },
        "id": "b_Lw0mH7SwQP",
        "outputId": "1a5a7bc4-881e-412d-a30f-acd1104cc3e4"
      },
      "execution_count": null,
      "outputs": [
        {
          "output_type": "stream",
          "name": "stdout",
          "text": [
            "No registrasi:  129718276371 HPT-ACD\n",
            "Company profile: \n",
            "name = PT. Cerdas Digital Nusantara\n",
            "year = 2014\n",
            "based = Jakarta Barat, DKI Jakarta\n"
          ]
        }
      ]
    }
  ]
}