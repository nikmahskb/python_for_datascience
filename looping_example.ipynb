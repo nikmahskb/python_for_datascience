{
  "nbformat": 4,
  "nbformat_minor": 0,
  "metadata": {
    "colab": {
      "provenance": [],
      "toc_visible": true,
      "include_colab_link": true
    },
    "kernelspec": {
      "name": "python3",
      "display_name": "Python 3"
    },
    "language_info": {
      "name": "python"
    }
  },
  "cells": [
    {
      "cell_type": "markdown",
      "metadata": {
        "id": "view-in-github",
        "colab_type": "text"
      },
      "source": [
        "<a href=\"https://colab.research.google.com/github/nikmahskb/python_for_datascience/blob/main/looping_example.ipynb\" target=\"_parent\"><img src=\"https://colab.research.google.com/assets/colab-badge.svg\" alt=\"Open In Colab\"/></a>"
      ]
    },
    {
      "cell_type": "markdown",
      "source": [
        "# Loop Python"
      ],
      "metadata": {
        "id": "7l9N7K9fkh-o"
      }
    },
    {
      "cell_type": "markdown",
      "source": [
        "## Soal 1\n",
        "\n",
        "Buatlah script yang dapat memberikan output berupa pola segitiga siku-siku berdasarkan jumlah bintang yang diinput. Sebagai contoh:\n",
        "\n",
        "Input:\n",
        "\n",
        "Masukkan tinggi segitiga: 5\n",
        "\n",
        "Output:\n",
        "\n",
        "![image.png](data:image/png;base64,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)"
      ],
      "metadata": {
        "id": "x-ZbbiDXoqfo"
      }
    },
    {
      "cell_type": "code",
      "source": [
        "for i in range(6):\n",
        "  print('*'*i)"
      ],
      "metadata": {
        "colab": {
          "base_uri": "https://localhost:8080/"
        },
        "id": "hpyJ22zJXXVk",
        "outputId": "fed706ca-98d5-49fc-e40a-eb951c4f7d56"
      },
      "execution_count": null,
      "outputs": [
        {
          "output_type": "stream",
          "name": "stdout",
          "text": [
            "\n",
            "*\n",
            "**\n",
            "***\n",
            "****\n",
            "*****\n"
          ]
        }
      ]
    },
    {
      "cell_type": "markdown",
      "source": [
        "## Soal 2\n",
        "\n",
        "Buatlah script yang dapat memberikan output seperti gambar dibawah ini\n",
        "\n",
        "Output:\n",
        "\n",
        "![image.png](data:image/png;base64,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)"
      ],
      "metadata": {
        "id": "ylBLAJ3v6g-C"
      }
    },
    {
      "cell_type": "code",
      "source": [
        "for i in range(6):\n",
        "  print('* '*i)\n",
        "for i in range(4,0,-1):\n",
        "  print('* '*i)"
      ],
      "metadata": {
        "colab": {
          "base_uri": "https://localhost:8080/"
        },
        "id": "YBLlSm4jXuq7",
        "outputId": "bc1104f6-a8b5-45da-ada3-5bcb0d69f2be"
      },
      "execution_count": null,
      "outputs": [
        {
          "output_type": "stream",
          "name": "stdout",
          "text": [
            "\n",
            "* \n",
            "* * \n",
            "* * * \n",
            "* * * * \n",
            "* * * * * \n",
            "* * * * \n",
            "* * * \n",
            "* * \n",
            "* \n"
          ]
        }
      ]
    },
    {
      "cell_type": "markdown",
      "source": [
        "## Soal 3\n",
        "\n",
        "* Buat contoh while yang didalamnya terdapat if-elif-else\n",
        "* Buat Nested loop yang didalamnya terdapat if-else"
      ],
      "metadata": {
        "id": "9iiVZdfwNm1Q"
      }
    },
    {
      "cell_type": "code",
      "source": [
        "hitung = 1\n",
        "n = int(input(\"Masukkan nilai lebih dari 0: \"))\n",
        "\n",
        "while hitung <= n:\n",
        "    if hitung % 2 == 0:\n",
        "        print(f\"Bilangan {hitung} Genap\")\n",
        "        hitung += 1\n",
        "    else:\n",
        "        print(f\"Bilangan {hitung} Ganjil\")\n",
        "        hitung += 1"
      ],
      "metadata": {
        "id": "-n_gCy2DY-Sn"
      },
      "execution_count": null,
      "outputs": []
    }
  ]
}