{
  "nbformat": 4,
  "nbformat_minor": 0,
  "metadata": {
    "colab": {
      "provenance": [],
      "authorship_tag": "ABX9TyNC2LAc5i/JWAcmMgmqOaTW",
      "include_colab_link": true
    },
    "kernelspec": {
      "name": "python3",
      "display_name": "Python 3"
    },
    "language_info": {
      "name": "python"
    }
  },
  "cells": [
    {
      "cell_type": "markdown",
      "metadata": {
        "id": "view-in-github",
        "colab_type": "text"
      },
      "source": [
        "<a href=\"https://colab.research.google.com/github/nikmahskb/python_for_datascience/blob/main/Intro.ipynb\" target=\"_parent\"><img src=\"https://colab.research.google.com/assets/colab-badge.svg\" alt=\"Open In Colab\"/></a>"
      ]
    },
    {
      "cell_type": "code",
      "source": [
        "gaji_kotor = int(input(\"Gaji Budi libur semester: \"))"
      ],
      "metadata": {
        "colab": {
          "base_uri": "https://localhost:8080/"
        },
        "id": "vw5Ev_UCRcUi",
        "outputId": "2af38475-5b70-4cc6-a7fb-c120fd44ca51"
      },
      "execution_count": 7,
      "outputs": [
        {
          "name": "stdout",
          "output_type": "stream",
          "text": [
            "Gaji Budi libur semester: 500000\n"
          ]
        }
      ]
    },
    {
      "cell_type": "code",
      "source": [
        "gaji_bersih = gaji_kotor * (1 - 14/100)\n",
        "\n",
        "print(f\"Gaji kotor Budi: {gaji_bersih}\")"
      ],
      "metadata": {
        "colab": {
          "base_uri": "https://localhost:8080/"
        },
        "id": "mm9J-nX_Rre_",
        "outputId": "adaffb62-46a4-4937-a0ba-1eba033a8282"
      },
      "execution_count": 9,
      "outputs": [
        {
          "output_type": "stream",
          "name": "stdout",
          "text": [
            "Gaji kotor Budi: 430000.0\n"
          ]
        }
      ]
    },
    {
      "cell_type": "code",
      "source": [
        "Baju_Budi = gaji_bersih * 10/100\n",
        "\n",
        "print(f\"Harga baju Budi: {Baju_Budi}\")"
      ],
      "metadata": {
        "colab": {
          "base_uri": "https://localhost:8080/"
        },
        "id": "tvFJKGePR7Do",
        "outputId": "254f39aa-25fd-407d-dff4-f05f5a39ddad"
      },
      "execution_count": 11,
      "outputs": [
        {
          "output_type": "stream",
          "name": "stdout",
          "text": [
            "Harga baju Budi: 43000.0\n"
          ]
        }
      ]
    },
    {
      "cell_type": "code",
      "source": [
        "Alat_tulis = gaji_bersih * 1/100\n",
        "\n",
        "print(f\"Harga alat tulis Budi: {Alat_tulis}\")"
      ],
      "metadata": {
        "colab": {
          "base_uri": "https://localhost:8080/"
        },
        "id": "FBzVeb54SINT",
        "outputId": "247bd4e8-d5b9-41ec-94ec-e20516a964a8"
      },
      "execution_count": 12,
      "outputs": [
        {
          "output_type": "stream",
          "name": "stdout",
          "text": [
            "Harga alat tulis Budi: 4300.0\n"
          ]
        }
      ]
    },
    {
      "cell_type": "code",
      "source": [
        "sisa_gaji = gaji_bersih - Baju_Budi - Alat_tulis\n",
        "\n",
        "print(f\"Sisa gaji budi: {sisa_gaji}\")"
      ],
      "metadata": {
        "colab": {
          "base_uri": "https://localhost:8080/"
        },
        "id": "JDf-sRJUST7d",
        "outputId": "7b4b51fe-0268-4f53-ca1e-dc8372d72efd"
      },
      "execution_count": 13,
      "outputs": [
        {
          "output_type": "stream",
          "name": "stdout",
          "text": [
            "Sisa gaji budi: 382700.0\n"
          ]
        }
      ]
    },
    {
      "cell_type": "code",
      "source": [
        "sedekah = sisa_gaji * 25/100\n",
        "\n",
        "print(f\"Sedekah: {sedekah}\")"
      ],
      "metadata": {
        "colab": {
          "base_uri": "https://localhost:8080/"
        },
        "id": "8TrE1O3ZSl4i",
        "outputId": "c0fc8e6e-7241-4449-cf52-cb369ba88fec"
      },
      "execution_count": 14,
      "outputs": [
        {
          "output_type": "stream",
          "name": "stdout",
          "text": [
            "Sedekah: 95675.0\n"
          ]
        }
      ]
    },
    {
      "cell_type": "code",
      "source": [
        "anak_yatim = sedekah * 30/100\n",
        "\n",
        "print(f\"Alokasi untuk anak  yatim: {anak_yatim}\")"
      ],
      "metadata": {
        "colab": {
          "base_uri": "https://localhost:8080/"
        },
        "id": "Ntw5xZyKS0gc",
        "outputId": "33d46ba2-51ef-43a8-8c81-5704edea36c1"
      },
      "execution_count": 15,
      "outputs": [
        {
          "output_type": "stream",
          "name": "stdout",
          "text": [
            "Alokasi untuk anak  yatim: 28702.5\n"
          ]
        }
      ]
    },
    {
      "cell_type": "code",
      "source": [
        "dhuafa = sedekah - anak_yatim\n",
        "\n",
        "print(f\"Alokasi untuk kaum dhuafa: {dhuafa}\")"
      ],
      "metadata": {
        "colab": {
          "base_uri": "https://localhost:8080/"
        },
        "id": "_0vghhHnTATx",
        "outputId": "be434c4b-1231-4d76-c412-8d9068e6f2b5"
      },
      "execution_count": 16,
      "outputs": [
        {
          "output_type": "stream",
          "name": "stdout",
          "text": [
            "Alokasi untuk kaum dhuafa: 66972.5\n"
          ]
        }
      ]
    }
  ]
}