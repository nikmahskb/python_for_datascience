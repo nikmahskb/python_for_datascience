{
  "cells": [
    {
      "cell_type": "markdown",
      "metadata": {
        "id": "view-in-github",
        "colab_type": "text"
      },
      "source": [
        "<a href=\"https://colab.research.google.com/github/nikmahskb/python_for_datascience/blob/main/basic_python_example.ipynb\" target=\"_parent\"><img src=\"https://colab.research.google.com/assets/colab-badge.svg\" alt=\"Open In Colab\"/></a>"
      ]
    },
    {
      "cell_type": "markdown",
      "metadata": {
        "id": "Vx4h1_ZPZrkq"
      },
      "source": [
        "# Basic Python"
      ]
    },
    {
      "cell_type": "markdown",
      "metadata": {
        "id": "E1uA8qvil0y7"
      },
      "source": [
        "***Example***"
      ]
    },
    {
      "cell_type": "code",
      "execution_count": null,
      "metadata": {
        "colab": {
          "base_uri": "https://localhost:8080/"
        },
        "id": "yAsO-VPuCMlZ",
        "outputId": "c32a32fd-636a-408d-a9ed-571b2b7ed06c"
      },
      "outputs": [
        {
          "name": "stdout",
          "output_type": "stream",
          "text": [
            "Ilmu Hukum\n",
            "Hukum\n",
            "60\n",
            "3.95\n"
          ]
        }
      ],
      "source": [
        "##Variabel\n",
        "prodi = \"Ilmu Hukum\"\n",
        "fakultas = \"Hukum\"\n",
        "angkatan = 60\n",
        "gpa = 3.95\n",
        "\n",
        "print(jurusan)\n",
        "print(fakultas)\n",
        "print(angkatan)\n",
        "print(gpa)"
      ]
    },
    {
      "cell_type": "code",
      "execution_count": null,
      "metadata": {
        "colab": {
          "base_uri": "https://localhost:8080/"
        },
        "id": "bkHtNLawFxdc",
        "outputId": "d89186d7-c382-42ae-fa5f-458bd53d2be7"
      },
      "outputs": [
        {
          "name": "stdout",
          "output_type": "stream",
          "text": [
            "<class 'str'>\n",
            "<class 'str'>\n",
            "<class 'int'>\n",
            "<class 'float'>\n"
          ]
        }
      ],
      "source": [
        "##data type\n",
        "\n",
        "print(type(prodi))\n",
        "print(type(fakultas))\n",
        "print(type(angkatan))\n",
        "print(type(gpa))"
      ]
    },
    {
      "cell_type": "code",
      "execution_count": null,
      "metadata": {
        "colab": {
          "base_uri": "https://localhost:8080/"
        },
        "id": "S_Oxdp4FE7Hz",
        "outputId": "2ce18b29-b6ad-4586-d4d0-90fc5d7b71e4"
      },
      "outputs": [
        {
          "name": "stdout",
          "output_type": "stream",
          "text": [
            "87\n",
            "-63\n",
            "900\n",
            "0.16\n",
            "0\n",
            "12\n",
            "868147369313555697017304020080982873290641481094816785364272602476812835978477568\n"
          ]
        }
      ],
      "source": [
        "#Arithmatic\n",
        "num1 = 12\n",
        "num2 = 75\n",
        "sum = num1 + num2\n",
        "diff = num1 - num2\n",
        "mult = num1 * num2\n",
        "div = num1 / num2\n",
        "floor = num1 // num2\n",
        "mod = num1 % num2\n",
        "pow = num1 ** num2\n",
        "\n",
        "print(sum)\n",
        "print(diff)\n",
        "print(mult)\n",
        "print(div)\n",
        "print(floor)\n",
        "print(mod)\n",
        "print(pow)"
      ]
    },
    {
      "cell_type": "code",
      "execution_count": null,
      "metadata": {
        "colab": {
          "base_uri": "https://localhost:8080/"
        },
        "id": "xvm6oeZt2z0P",
        "outputId": "b14bf436-1fa3-4df8-b6b1-b0fb8d2c8ac6"
      },
      "outputs": [
        {
          "output_type": "stream",
          "name": "stdout",
          "text": [
            "Saya dari Program Studi Ilmu Hukum Fakultas Hukum angkatan 60\n",
            "Hukum! Hukum! Hukum! Hukum! \n",
            "S\n",
            "d\n",
            "Saya dari Progr\n",
            "ydirr \n",
            "saya dari program studi ilmu hukum fakultas hukum angkatan 60\n",
            "SAYA DARI PROGRAM STUDI ILMU HUKUM FAKULTAS HUKUM ANGKATAN 60\n",
            "Saya dari program studi ilmu hukum fakultas hukum angkatan 60\n",
            "['Saya', 'dari', 'Program', 'Studi', 'Ilmu', 'Hukum', 'Fakultas', 'Hukum', 'angkatan', '60']\n",
            "Saya dari Program Studi Ilmu Hukum Fakultas Hukum angkatan 60\n"
          ]
        }
      ],
      "source": [
        "##manipulation\n",
        "\n",
        "#Concatention\n",
        "prodi = \"Ilmu Hukum\"\n",
        "fakultas = \"Hukum\"\n",
        "angkatan = 60\n",
        "final = \"Saya dari Program Studi \" + prodi + \" Fakultas \" + fakultas + \" angkatan \" + str(angkatan)\n",
        "print(final)\n",
        "\n",
        "#Multiplication\n",
        "fakultas = \"Hukum! \"\n",
        "fakul1 = fakultas * 4\n",
        "print(fakul1)\n",
        "\n",
        "#Indexing\n",
        "ind1 = final[0]\n",
        "ind2 = final[5]\n",
        "\n",
        "print(ind1)\n",
        "print(ind2)\n",
        "\n",
        "#slicing\n",
        "slice1 = final[:15]\n",
        "slice2 = final[2:20:3]\n",
        "\n",
        "print(slice1)\n",
        "print(slice2)\n",
        "\n",
        "#Lowercase\n",
        "lowc = final.lower()\n",
        "print(lowc)\n",
        "\n",
        "#uppercase\n",
        "upcs = final.upper()\n",
        "print(upcs)\n",
        "\n",
        "#capitalize\n",
        "capit = final.capitalize()\n",
        "print(capit)\n",
        "\n",
        "#split\n",
        "split_final = final.split(\" \")\n",
        "print(split_final)\n",
        "\n",
        "#join\n",
        "join_prev = \" \".join(split_final)\n",
        "print(join_prev)"
      ]
    },
    {
      "cell_type": "code",
      "source": [
        "#Type casting\n",
        "\n",
        "asal = str(input(\"Masukkan asal daerahmu: \"))\n",
        "usia = int(input(\"Masukkan usiamu: \"))\n",
        "tinggi = float(input(\"Masukkan tinggi badan (m): \"))\n",
        "\n",
        "print(type(asal))\n",
        "print(asal)\n",
        "print(type(usia))\n",
        "print(usia)\n",
        "print(type(tinggi))\n",
        "print(tinggi)\n",
        "\n",
        "x = 5\n",
        "y1 = x - 5\n",
        "y2 = x + 2\n",
        "y3 = x - 10\n",
        "print(bool(y1))\n",
        "print(bool(y2))\n",
        "print(bool(y3))"
      ],
      "metadata": {
        "colab": {
          "base_uri": "https://localhost:8080/"
        },
        "id": "fpQbRkQx7XMy",
        "outputId": "fc063bc4-4b18-43a7-82d7-df55c171cf28"
      },
      "execution_count": null,
      "outputs": [
        {
          "output_type": "stream",
          "name": "stdout",
          "text": [
            "Masukkan asal daerahmu: karawang\n",
            "Masukkan usiamu: 20\n",
            "Masukkan tinggi badan (m): 1.65\n",
            "<class 'str'>\n",
            "karawang\n",
            "<class 'int'>\n",
            "20\n",
            "<class 'float'>\n",
            "1.65\n",
            "False\n",
            "True\n",
            "True\n"
          ]
        }
      ]
    },
    {
      "cell_type": "markdown",
      "source": [
        "2. solve this prob"
      ],
      "metadata": {
        "id": "cfUsnJRh9nfu"
      }
    },
    {
      "cell_type": "code",
      "source": [
        "phone_num = \"+62801-0029-9000\"\n",
        "phone_num_zero = phone_num.replace(\"+62\", \"0\")\n",
        "phone_num_split = phone_num_zero.split(\"-\")\n",
        "phone_num_join = (\"\").join(phone_num_split)\n",
        "\n",
        "print(phone_num_zero)\n",
        "print(phone_num_split)\n",
        "print(phone_num_join)"
      ],
      "metadata": {
        "colab": {
          "base_uri": "https://localhost:8080/"
        },
        "id": "dBAHWR5P9rB5",
        "outputId": "8debfb27-7796-43f3-a011-57a495a921bb"
      },
      "execution_count": null,
      "outputs": [
        {
          "output_type": "stream",
          "name": "stdout",
          "text": [
            "0801-0029-9000\n",
            "['0801', '0029', '9000']\n",
            "080100299000\n"
          ]
        }
      ]
    }
  ],
  "metadata": {
    "colab": {
      "provenance": [],
      "include_colab_link": true
    },
    "kernelspec": {
      "display_name": "Python 3",
      "name": "python3"
    },
    "language_info": {
      "name": "python"
    }
  },
  "nbformat": 4,
  "nbformat_minor": 0
}