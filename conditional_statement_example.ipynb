{
  "nbformat": 4,
  "nbformat_minor": 0,
  "metadata": {
    "colab": {
      "provenance": [],
      "include_colab_link": true
    },
    "kernelspec": {
      "name": "python3",
      "display_name": "Python 3"
    },
    "language_info": {
      "name": "python"
    }
  },
  "cells": [
    {
      "cell_type": "markdown",
      "metadata": {
        "id": "view-in-github",
        "colab_type": "text"
      },
      "source": [
        "<a href=\"https://colab.research.google.com/github/nikmahskb/python_for_datascience/blob/main/conditional_statement_example.ipynb\" target=\"_parent\"><img src=\"https://colab.research.google.com/assets/colab-badge.svg\" alt=\"Open In Colab\"/></a>"
      ]
    },
    {
      "cell_type": "markdown",
      "source": [
        "# Conditional Statement"
      ],
      "metadata": {
        "id": "XJ2tDlS5e4Fi"
      }
    },
    {
      "cell_type": "markdown",
      "source": [
        "## Soal 1\n",
        "\n",
        "Buatlah script program memeriksa apakah bilangan yang dimasukkan ganjil atau genap. Jika angka yang dimasukkan bernilai genap, akan muncul output: “Angka bernilai genap”. Namun jika angka yang dimasukkan bernilai ganjil, akan muncul output: “Angka bernilai ganjil”."
      ],
      "metadata": {
        "id": "1_k6bMnAh4mq"
      }
    },
    {
      "cell_type": "code",
      "source": [
        "num1 = int(input(\"Masukkan angka: \"))\n",
        "\n",
        "if num1 % 2 == 0:\n",
        "  print(\"Angka bernilai genap\")\n",
        "else:\n",
        "  print(\"Angka bernilai ganjil\")"
      ],
      "metadata": {
        "colab": {
          "base_uri": "https://localhost:8080/"
        },
        "id": "0EwASWCCEEMg",
        "outputId": "bc17978f-f980-49ae-c27b-834a187c00b6"
      },
      "execution_count": null,
      "outputs": [
        {
          "output_type": "stream",
          "name": "stdout",
          "text": [
            "Masukkan angka: 70\n",
            "Angka bernilai genap\n"
          ]
        }
      ]
    },
    {
      "cell_type": "markdown",
      "source": [
        "## Soal 2\n",
        "\n",
        "Buatlah script yang memberikan output sebagai berikut:\n",
        "Jika angka kelipatan 3, beri output “fizz”\n",
        "Jika angka kelipatan 5, beri output “buzz”\n",
        "Jika angka kelipatan 3 dan 5 beri output “fizzbuzz”\n",
        "Selain itu beri output “Nayy”\n"
      ],
      "metadata": {
        "id": "8RSV1ESjjF0k"
      }
    },
    {
      "cell_type": "code",
      "source": [
        "num2 = int(input(\"Masukkan angka: \"))\n",
        "\n",
        "if num2 % 3 == 0 and num2 % 5 == 0:\n",
        "  print(\"fizzbuzz\")\n",
        "elif num2 % 3 == 0:\n",
        "  print(\"fizz\")\n",
        "elif num2 % 5 == 0:\n",
        "  print(\"buzz\")\n",
        "else:\n",
        "  print(\"Navy\")"
      ],
      "metadata": {
        "colab": {
          "base_uri": "https://localhost:8080/"
        },
        "id": "UdIgGo5-Efmt",
        "outputId": "3e550a14-8831-4c72-980f-8532b795bbdb"
      },
      "execution_count": null,
      "outputs": [
        {
          "output_type": "stream",
          "name": "stdout",
          "text": [
            "Masukkan angka: 13\n",
            "Navy\n"
          ]
        }
      ]
    },
    {
      "cell_type": "markdown",
      "source": [
        "## Soal 3\n",
        "\n",
        "Buat contoh dari :\n",
        "* Operator perbandingan\n",
        "* Operator Logika\n",
        "* Operator Condition"
      ],
      "metadata": {
        "id": "dhLO_DxGWEpi"
      }
    },
    {
      "cell_type": "code",
      "source": [
        "##Operator perbandingan\n",
        "\n",
        "a = 227\n",
        "b = 67\n",
        "\n",
        "eq = a == b\n",
        "\n",
        "not_eq = a != b\n",
        "\n",
        "more = a > b\n",
        "\n",
        "less = a < b\n",
        "\n",
        "more_eq = a >= b\n",
        "\n",
        "less_eq = a <= b\n",
        "\n",
        "print(eq)\n",
        "print(not_eq)\n",
        "print(more)\n",
        "print(less)\n",
        "print(more_eq)\n",
        "print(less_eq)"
      ],
      "metadata": {
        "colab": {
          "base_uri": "https://localhost:8080/"
        },
        "id": "0tSdrMi3Fohg",
        "outputId": "9c754210-ae6b-407f-d7eb-9dbdea39ae8d"
      },
      "execution_count": null,
      "outputs": [
        {
          "output_type": "stream",
          "name": "stdout",
          "text": [
            "False\n",
            "True\n",
            "True\n",
            "False\n",
            "True\n",
            "False\n"
          ]
        }
      ]
    },
    {
      "cell_type": "code",
      "source": [
        "#Operator logika\n",
        "\n",
        "x = False\n",
        "y = False\n",
        "\n",
        "logika_and = x and y\n",
        "\n",
        "logika_or = x or y\n",
        "\n",
        "logika_not_x = not x\n",
        "logika_not_y = not y\n",
        "\n",
        "print(logika_and)\n",
        "print(logika_or)\n",
        "print(logika_not_x)\n",
        "print(logika_not_y)"
      ],
      "metadata": {
        "colab": {
          "base_uri": "https://localhost:8080/"
        },
        "id": "v9HvAkdvGPiT",
        "outputId": "8ed69a61-7aa2-4798-b9d2-d4ebc12fb0a2"
      },
      "execution_count": null,
      "outputs": [
        {
          "output_type": "stream",
          "name": "stdout",
          "text": [
            "False\n",
            "False\n",
            "True\n",
            "True\n"
          ]
        }
      ]
    },
    {
      "cell_type": "code",
      "source": [
        "#Operator condition\n",
        "\n",
        "#if\n",
        "waktu_pengerjaan = int(input(\"Masukkan waktu pengerjaan: \"))\n",
        "\n",
        "if waktu_pengerjaan > 100:\n",
        "  print(\"Tidak lulus\")"
      ],
      "metadata": {
        "colab": {
          "base_uri": "https://localhost:8080/"
        },
        "id": "fQED-mTqGeMI",
        "outputId": "4d66764d-edac-4706-88ff-332dd61845b3"
      },
      "execution_count": null,
      "outputs": [
        {
          "output_type": "stream",
          "name": "stdout",
          "text": [
            "Masukkan waktu pengerjaan: 120\n",
            "Tidak lulus\n"
          ]
        }
      ]
    },
    {
      "cell_type": "code",
      "source": [
        "#if-else\n",
        "\n",
        "waktu_pengerjaan = int(input(\"Masukkan waktu pengerjaan: \"))\n",
        "\n",
        "if waktu_pengerjaan > 100:\n",
        "  print(\"Tidak lulus\")\n",
        "else:\n",
        "  print(\"Lulus\")"
      ],
      "metadata": {
        "colab": {
          "base_uri": "https://localhost:8080/"
        },
        "id": "4waIu_nFHgCT",
        "outputId": "2dfe83e3-8206-477f-bfae-efaac7a34cfa"
      },
      "execution_count": null,
      "outputs": [
        {
          "output_type": "stream",
          "name": "stdout",
          "text": [
            "Masukkan waktu pengerjaan: 50\n",
            "Lulus\n"
          ]
        }
      ]
    },
    {
      "cell_type": "code",
      "source": [
        "waktu_pengerjaan = int(input(\"Masukkan waktu pengerjaan: \"))\n",
        "\n",
        "if waktu_pengerjaan > 100:\n",
        "  print(\"Tidak lulus\")\n",
        "elif waktu_pengerjaan > 80:\n",
        "  print(\"Lulu7s\")\n",
        "else:\n",
        "  print(\"Lulus dengan predikat tinggi\")"
      ],
      "metadata": {
        "colab": {
          "base_uri": "https://localhost:8080/"
        },
        "id": "NcrMBQiwHsym",
        "outputId": "45bd0727-7598-48c2-fae3-1eeb3857217c"
      },
      "execution_count": null,
      "outputs": [
        {
          "output_type": "stream",
          "name": "stdout",
          "text": [
            "Masukkan waktu pengerjaan: 90\n",
            "Lulus\n"
          ]
        }
      ]
    },
    {
      "cell_type": "markdown",
      "source": [
        "## Soal 4\n",
        "\n",
        "buah = [\"nanas\", \"apel\", \"jeruk\"]\n",
        "\n",
        "buat conditional if dengan loop"
      ],
      "metadata": {
        "id": "Pp_w8r4Aom9S"
      }
    },
    {
      "cell_type": "code",
      "source": [
        "buah = [\"nanas\", \"apel\", \"jeruk\"]\n",
        "\n",
        "for nama_buah in buah:\n",
        "  if nama_buah == \"nanas\":\n",
        "    print(\"Ini buah \", nama_buah)\n",
        "  elif nama_buah == \"apel\":\n",
        "    print(\"Ini buah \", nama_buah)\n",
        "  else:\n",
        "    print(\"Ini buah \", nama_buah)"
      ],
      "metadata": {
        "colab": {
          "base_uri": "https://localhost:8080/"
        },
        "id": "0tuM_ExCIJvZ",
        "outputId": "05ab6ced-1eb3-445f-f383-f1906cfc9155"
      },
      "execution_count": null,
      "outputs": [
        {
          "output_type": "stream",
          "name": "stdout",
          "text": [
            "Ini buah  nanas\n",
            "Ini buah  apel\n",
            "Ini buah  jeruk\n"
          ]
        }
      ]
    }
  ]
}