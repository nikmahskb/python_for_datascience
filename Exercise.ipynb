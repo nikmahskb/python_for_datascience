{
  "nbformat": 4,
  "nbformat_minor": 0,
  "metadata": {
    "colab": {
      "provenance": [],
      "authorship_tag": "ABX9TyM6SKjYCeRA33TOCFovMMOv",
      "include_colab_link": true
    },
    "kernelspec": {
      "name": "python3",
      "display_name": "Python 3"
    },
    "language_info": {
      "name": "python"
    }
  },
  "cells": [
    {
      "cell_type": "markdown",
      "metadata": {
        "id": "view-in-github",
        "colab_type": "text"
      },
      "source": [
        "<a href=\"https://colab.research.google.com/github/nikmahskb/python_for_datascience/blob/main/Exercise.ipynb\" target=\"_parent\"><img src=\"https://colab.research.google.com/assets/colab-badge.svg\" alt=\"Open In Colab\"/></a>"
      ]
    },
    {
      "cell_type": "code",
      "source": [
        "gaji_perhour = int(input(\"Gaji Budi libur semester per jam: \"))\n",
        "waktu_kerja = 6\n",
        "hari_kerja_perweek = 5\n",
        "week = 5"
      ],
      "metadata": {
        "colab": {
          "base_uri": "https://localhost:8080/"
        },
        "id": "PgjtPtYLTw01",
        "outputId": "0ddc913b-cf4d-4ad5-af46-7f0fe274e32f"
      },
      "execution_count": null,
      "outputs": [
        {
          "name": "stdout",
          "output_type": "stream",
          "text": [
            "Gaji Budi libur semester per jam: 25000\n"
          ]
        }
      ]
    },
    {
      "cell_type": "code",
      "source": [
        "gaji_kotor = gaji_perhour * waktu_kerja * hari_kerja_perweek * week\n",
        "\n",
        "print(f\"Gaji kotor Budi: {gaji_kotor}\")"
      ],
      "metadata": {
        "colab": {
          "base_uri": "https://localhost:8080/"
        },
        "id": "vw5Ev_UCRcUi",
        "outputId": "80d05c69-db82-402f-c7b9-eef48d4e6593"
      },
      "execution_count": null,
      "outputs": [
        {
          "output_type": "stream",
          "name": "stdout",
          "text": [
            "Gaji kotor Budi: 3750000\n"
          ]
        }
      ]
    },
    {
      "cell_type": "code",
      "source": [
        "gaji_bersih = gaji_kotor * (1 - 14/100)\n",
        "\n",
        "print(f\"Gaji bersih Budi: {gaji_bersih}\")"
      ],
      "metadata": {
        "colab": {
          "base_uri": "https://localhost:8080/"
        },
        "id": "mm9J-nX_Rre_",
        "outputId": "5ab965dc-ac57-49fd-8d37-1ee6df175d0a"
      },
      "execution_count": null,
      "outputs": [
        {
          "output_type": "stream",
          "name": "stdout",
          "text": [
            "Gaji bersih Budi: 3225000.0\n"
          ]
        }
      ]
    },
    {
      "cell_type": "code",
      "source": [
        "Baju_Budi = gaji_bersih * 10/100\n",
        "\n",
        "print(f\"Harga baju Budi: {Baju_Budi}\")"
      ],
      "metadata": {
        "colab": {
          "base_uri": "https://localhost:8080/"
        },
        "id": "tvFJKGePR7Do",
        "outputId": "e359fc75-fdc7-421b-c09d-26ccc777a63f"
      },
      "execution_count": null,
      "outputs": [
        {
          "output_type": "stream",
          "name": "stdout",
          "text": [
            "Harga baju Budi: 322500.0\n"
          ]
        }
      ]
    },
    {
      "cell_type": "code",
      "source": [
        "Alat_tulis = gaji_bersih * 1/100\n",
        "\n",
        "print(f\"Harga alat tulis Budi: {Alat_tulis}\")"
      ],
      "metadata": {
        "colab": {
          "base_uri": "https://localhost:8080/"
        },
        "id": "FBzVeb54SINT",
        "outputId": "20b5ac4c-2910-4a03-bfe6-e87f9079b4c9"
      },
      "execution_count": null,
      "outputs": [
        {
          "output_type": "stream",
          "name": "stdout",
          "text": [
            "Harga alat tulis Budi: 32250.0\n"
          ]
        }
      ]
    },
    {
      "cell_type": "code",
      "source": [
        "sisa_gaji = gaji_bersih - Baju_Budi - Alat_tulis\n",
        "\n",
        "print(f\"Sisa gaji budi: {sisa_gaji}\")"
      ],
      "metadata": {
        "colab": {
          "base_uri": "https://localhost:8080/"
        },
        "id": "JDf-sRJUST7d",
        "outputId": "fba6a7d3-520a-4437-cf3f-5303ad0ffef3"
      },
      "execution_count": null,
      "outputs": [
        {
          "output_type": "stream",
          "name": "stdout",
          "text": [
            "Sisa gaji budi: 2870250.0\n"
          ]
        }
      ]
    },
    {
      "cell_type": "code",
      "source": [
        "sedekah = sisa_gaji * 25/100\n",
        "\n",
        "print(f\"Sedekah: {sedekah}\")"
      ],
      "metadata": {
        "colab": {
          "base_uri": "https://localhost:8080/"
        },
        "id": "8TrE1O3ZSl4i",
        "outputId": "8e3f0e38-e2f8-426d-9e66-a3de8cc0b1ae"
      },
      "execution_count": null,
      "outputs": [
        {
          "output_type": "stream",
          "name": "stdout",
          "text": [
            "Sedekah: 717562.5\n"
          ]
        }
      ]
    },
    {
      "cell_type": "code",
      "source": [
        "anak_yatim = sedekah * 30/100\n",
        "\n",
        "print(f\"Alokasi untuk anak  yatim: {anak_yatim}\")"
      ],
      "metadata": {
        "colab": {
          "base_uri": "https://localhost:8080/"
        },
        "id": "Ntw5xZyKS0gc",
        "outputId": "5fdfdbec-6865-454e-9de6-88aafdf31687"
      },
      "execution_count": null,
      "outputs": [
        {
          "output_type": "stream",
          "name": "stdout",
          "text": [
            "Alokasi untuk anak  yatim: 215268.75\n"
          ]
        }
      ]
    },
    {
      "cell_type": "code",
      "source": [
        "dhuafa = sedekah - anak_yatim\n",
        "\n",
        "print(f\"Alokasi untuk kaum dhuafa: {dhuafa}\")"
      ],
      "metadata": {
        "colab": {
          "base_uri": "https://localhost:8080/"
        },
        "id": "_0vghhHnTATx",
        "outputId": "e4fd50ea-52b3-447b-c9ee-d055f94fd80d"
      },
      "execution_count": null,
      "outputs": [
        {
          "output_type": "stream",
          "name": "stdout",
          "text": [
            "Alokasi untuk kaum dhuafa: 502293.75\n"
          ]
        }
      ]
    }
  ]
}